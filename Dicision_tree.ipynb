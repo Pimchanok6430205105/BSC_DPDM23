{
  "nbformat": 4,
  "nbformat_minor": 0,
  "metadata": {
    "colab": {
      "provenance": [],
      "authorship_tag": "ABX9TyOwQe/lg9c/n4QV8R1maTIy",
      "include_colab_link": true
    },
    "kernelspec": {
      "name": "python3",
      "display_name": "Python 3"
    },
    "language_info": {
      "name": "python"
    }
  },
  "cells": [
    {
      "cell_type": "markdown",
      "metadata": {
        "id": "view-in-github",
        "colab_type": "text"
      },
      "source": [
        "<a href=\"https://colab.research.google.com/github/Pimchanok6430205105/BSC_DPDM23/blob/main/Dicision_tree.ipynb\" target=\"_parent\"><img src=\"https://colab.research.google.com/assets/colab-badge.svg\" alt=\"Open In Colab\"/></a>"
      ]
    },
    {
      "cell_type": "markdown",
      "source": [
        "#HW2"
      ],
      "metadata": {
        "id": "ziQXkookVf9y"
      }
    },
    {
      "cell_type": "markdown",
      "source": [
        "[HW2 พิมชนก วงศ์สายเชื้อ](https://drive.google.com/file/d/1oDmQMkYu1cIbO8EB2MCIgarpRX8Rv-vu/view?usp=share_link)"
      ],
      "metadata": {
        "id": "3-2VRLB9Vs-S"
      }
    }
  ]
}